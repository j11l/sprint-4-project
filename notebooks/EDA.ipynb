{
 "cells": [
  {
   "cell_type": "markdown",
   "metadata": {},
   "source": [
    "## EDA Project\n",
    "\n",
    "**What sales insights can we gather from advertisement data?** We've been provided with data about used car advertisements over the course of approximately a year: information about the cars, their prices, when they were listed, and how quickly they sold.\n",
    "\n",
    "For this project, I want to look at a small subset of the data, pickup trucks, and compare sale prices and days listed for popular makes and models."
   ]
  },
  {
   "cell_type": "code",
   "execution_count": 93,
   "metadata": {},
   "outputs": [
    {
     "name": "stdout",
     "output_type": "stream",
     "text": [
      "<class 'pandas.core.frame.DataFrame'>\n",
      "RangeIndex: 51525 entries, 0 to 51524\n",
      "Data columns (total 13 columns):\n",
      " #   Column        Non-Null Count  Dtype  \n",
      "---  ------        --------------  -----  \n",
      " 0   price         51525 non-null  int64  \n",
      " 1   model_year    47906 non-null  float64\n",
      " 2   model         51525 non-null  object \n",
      " 3   condition     51525 non-null  object \n",
      " 4   cylinders     46265 non-null  float64\n",
      " 5   fuel          51525 non-null  object \n",
      " 6   odometer      43633 non-null  float64\n",
      " 7   transmission  51525 non-null  object \n",
      " 8   type          51525 non-null  object \n",
      " 9   paint_color   42258 non-null  object \n",
      " 10  is_4wd        25572 non-null  float64\n",
      " 11  date_posted   51525 non-null  object \n",
      " 12  days_listed   51525 non-null  int64  \n",
      "dtypes: float64(4), int64(2), object(7)\n",
      "memory usage: 5.1+ MB\n"
     ]
    }
   ],
   "source": [
    "import pandas as pd\n",
    "\n",
    "vehicles = pd.read_csv('../vehicles_us.csv')\n",
    "\n",
    "vehicles.info()"
   ]
  },
  {
   "cell_type": "markdown",
   "metadata": {},
   "source": [
    "### Cleaning the data\n",
    "\n",
    "A preliminary `info()` call shows that we have some missing values in the following fields: `model_year`, `cylinders`, `odometer`, `paint_color`, and `is_4wd`. Some of these factors affect a vehicle's value, but for now, I'm mostly focused on make/model.\n",
    "\n",
    "I want to look only at certain models, but there are some duplicates and variations in the `model` field that I should clean up first. To make it easier to find duplicates, I'll take a quick look at each automaker that offers a pickup truck. First, what makes are in the dataset?"
   ]
  },
  {
   "cell_type": "code",
   "execution_count": 94,
   "metadata": {},
   "outputs": [
    {
     "name": "stdout",
     "output_type": "stream",
     "text": [
      "['bmw' 'ford' 'hyundai' 'chrysler' 'toyota' 'honda' 'kia' 'chevrolet'\n",
      " 'ram' 'gmc' 'jeep' 'nissan' 'subaru' 'dodge' 'mercedes-benz' 'acura'\n",
      " 'cadillac' 'volkswagen' 'buick']\n"
     ]
    }
   ],
   "source": [
    "def getmake(makemodel):\n",
    "    '''Get the first word from a string combining make and model.'''\n",
    "    make = makemodel.split(' ',1)[0]\n",
    "    return make\n",
    "\n",
    "# Go through the data getting makes. Return unique results.\n",
    "print(vehicles['model'].apply(getmake).unique())"
   ]
  },
  {
   "cell_type": "markdown",
   "metadata": {},
   "source": [
    "Most of these automakers have made a pickup truck at least once, but it's likely that only a few of them will be relevant to an analysis of pickup trucks in our dataset. Filtering `model` by make, I used `value_counts()` to look through short lists of models by maker.\n",
    "\n",
    "There are no pickups in our dataset for BMW, Hyundai, Chrysler, Honda, Jeep, Subaru, Mercedes-Benz, Acura, Cadillac, Volkswagen, or Buick.\n",
    "\n",
    "I am concerned with the following models:\n",
    "- Ford: F-150, F-250, F-350, Ranger\n",
    "- Toyota: Tacoma, Tundra\n",
    "- Chevrolet: Silverado, Colorado\n",
    "- Ram: 1500, 2500, 3500\n",
    "- GMC: Sierra\n",
    "- Nissan: Frontier\n",
    "- Dodge: Dakota\n",
    "\n",
    "The format of the `model` field is consistent enough that I should be able to filter pickups out of the dataset by checking the `model` field for lowercase make/model combinations that correspond to pickups. The exception is Ford, where some trucks have been entered as 'f150' and others as 'f-150`."
   ]
  },
  {
   "cell_type": "code",
   "execution_count": 95,
   "metadata": {},
   "outputs": [],
   "source": [
    "def hyphenate_trucks(model):\n",
    "    '''If input string contains unhyphenated Ford model name, replace with hyphenated version'''\n",
    "    model = model.replace('f150','f-150')\n",
    "    model = model.replace('f250','f-250')\n",
    "    model = model.replace('f350','f-350')\n",
    "    return model\n",
    "\n",
    "vehicles['model'] = vehicles['model'].apply(hyphenate_trucks)"
   ]
  },
  {
   "cell_type": "markdown",
   "metadata": {},
   "source": [
    "To better limit the analysis to pickup trucks, I'll filter the `vehicles` dataframe into a `pickups`-only dataframe."
   ]
  },
  {
   "cell_type": "code",
   "execution_count": 105,
   "metadata": {},
   "outputs": [
    {
     "data": {
      "text/plain": [
       "model\n",
       "ford f-150                       3326\n",
       "chevrolet silverado 1500         2171\n",
       "ram 1500                         1750\n",
       "chevrolet silverado              1271\n",
       "ram 2500                         1091\n",
       "chevrolet silverado 2500hd        915\n",
       "gmc sierra 1500                   906\n",
       "toyota tacoma                     827\n",
       "ford f-250                        761\n",
       "ford f-250 super duty             611\n",
       "toyota tundra                     603\n",
       "ram 3500                          475\n",
       "gmc sierra 2500hd                 438\n",
       "ford f-250 sd                     426\n",
       "ford ranger                       423\n",
       "gmc sierra                        388\n",
       "nissan frontier crew cab sv       345\n",
       "ford f-150 supercrew cab xlt      327\n",
       "chevrolet silverado 1500 crew     303\n",
       "ford f-350 sd                     295\n",
       "chevrolet colorado                286\n",
       "nissan frontier                   281\n",
       "ford f-350                        250\n",
       "ford f-350 super duty             246\n",
       "chevrolet silverado 3500hd        243\n",
       "dodge dakota                      242\n",
       "Name: count, dtype: int64"
      ]
     },
     "execution_count": 105,
     "metadata": {},
     "output_type": "execute_result"
    }
   ],
   "source": [
    "pickup_models = ['ford f-150', 'ford f-250', 'ford f-350', 'ford ranger', 'toyota tacoma', 'toyota tundra', \\\n",
    "                 'chevrolet colorado', 'chevrolet silverado', 'ram 1500', 'ram 2500', 'ram 3500', 'gmc sierra', \\\n",
    "                 'nissan frontier', 'dodge dakota']\n",
    "\n",
    "# https://stackoverflow.com/questions/61158898/filter-pandas-where-some-columns-contain-any-of-the-words-in-a-list\n",
    "# select only rows where 'model' field contains string from list of known pickup_models\n",
    "pickups = vehicles[vehicles['model'].str.contains('|'.join(pickup_models))]\n",
    "\n",
    "pickups['model'].value_counts()"
   ]
  }
 ],
 "metadata": {
  "kernelspec": {
   "display_name": "base",
   "language": "python",
   "name": "python3"
  },
  "language_info": {
   "codemirror_mode": {
    "name": "ipython",
    "version": 3
   },
   "file_extension": ".py",
   "mimetype": "text/x-python",
   "name": "python",
   "nbconvert_exporter": "python",
   "pygments_lexer": "ipython3",
   "version": "3.11.7"
  }
 },
 "nbformat": 4,
 "nbformat_minor": 2
}
